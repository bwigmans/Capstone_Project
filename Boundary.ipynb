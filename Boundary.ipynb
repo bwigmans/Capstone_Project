{
 "cells": [
  {
   "cell_type": "code",
   "execution_count": 14,
   "metadata": {},
   "outputs": [],
   "source": [
    "import pandas as pd\n",
    "import geopandas as gpd\n",
    "import numpy as np\n",
    "import matplotlib.pyplot as plt\n",
    "from scipy import sparse\n",
    "import os    \n",
    "from sklearn.cluster import AgglomerativeClustering\n",
    "from sklearn.tree import DecisionTreeClassifier\n",
    "from sklearn.preprocessing import StandardScaler\n",
    "from fastprogress.fastprogress import master_bar, progress_bar\n",
    "from OSMPythonTools.api import Api\n",
    "from OSMPythonTools.overpass import overpassQueryBuilder, Overpass\n",
    "\n",
    "from OSMPythonTools.nominatim import Nominatim\n",
    "\n"
   ]
  },
  {
   "cell_type": "code",
   "execution_count": 15,
   "metadata": {},
   "outputs": [],
   "source": [
    "# Put here all paths to directories.\n",
    "# If we change the locations of files, we just have to change the paths here (as long as the name of the file remains the same).\n",
    "dir_exposure = '../data/raw_data/exposure/'\n",
    "dir_geography = '../data/raw_data/zones_delineation/'\n",
    "dir_geography_edited = '../data/raw_data/zones_delineation/edited/'\n",
    "dir_railway = '../data/raw_data/railway/' \n",
    "dir_municipality = '../data/raw_data/city_boundary/'\n",
    "dir_adjacency_matrix = '../data/raw_data/adjacency_matrix/'\n",
    "dir_OSM = '../data/OSM/'\n"
   ]
  },
  {
   "cell_type": "code",
   "execution_count": 16,
   "metadata": {},
   "outputs": [],
   "source": [
    "zones = gpd.read_file(dir_geography + 'PC_Utrecht.gpkg', layer = 'zone')\n",
    "center = gpd.read_file(dir_geography + 'PC_Utrecht.gpkg', layer = 'centroid')\n",
    "railway = gpd.read_file(dir_OSM + 'Utrecht_railway.gpkg')\n",
    "railway_preprocessed = gpd.read_file(dir_railway + 'railway.gpkg')\n",
    "highway = gpd.read_file(dir_OSM + 'Utrecht_highway.gpkg')\n",
    "water = gpd.read_file(dir_OSM + 'Utrecht_water.gpkg')"
   ]
  },
  {
   "cell_type": "code",
   "execution_count": 8,
   "metadata": {},
   "outputs": [
    {
     "name": "stderr",
     "output_type": "stream",
     "text": [
      "[overpass] downloading data: [timeout:25][out:json];\n",
      "area[name = Utrecht];\n",
      "(\n",
      "  \n",
      "  relation[\"type\"=\"waterway\"]['name'= Utrecht];\n",
      ");\n",
      "\n",
      "/*added by auto repair*/\n",
      "(._;>;);\n",
      "/*end of auto repair*/\n",
      "out body;\n",
      "\n"
     ]
    }
   ],
   "source": [
    "overpass = Overpass()\n",
    "\n",
    "city = 'Utrecht'\n",
    "\n",
    "\n",
    "query = f'''\n",
    "area[name = {city}];\n",
    "(\n",
    "  \n",
    "  relation[\"type\"=\"waterway\"]['name'= {city}];\n",
    ");\n",
    "\n",
    "/*added by auto repair*/\n",
    "(._;>;);\n",
    "/*end of auto repair*/\n",
    "out body;\n",
    "'''\n",
    "\n",
    "result = overpass.query(query)\n",
    "\n",
    "\n",
    "\n",
    "\n",
    "\n"
   ]
  }
 ],
 "metadata": {
  "kernelspec": {
   "display_name": "Python 3.9.7 ('proj')",
   "language": "python",
   "name": "python3"
  },
  "language_info": {
   "codemirror_mode": {
    "name": "ipython",
    "version": 3
   },
   "file_extension": ".py",
   "mimetype": "text/x-python",
   "name": "python",
   "nbconvert_exporter": "python",
   "pygments_lexer": "ipython3",
   "version": "3.9.7"
  },
  "orig_nbformat": 4,
  "vscode": {
   "interpreter": {
    "hash": "3e8e00c5934ef0229b636d0d6a2b877e3f72f91777e6a1f9b9001bba8b1950e4"
   }
  }
 },
 "nbformat": 4,
 "nbformat_minor": 2
}
